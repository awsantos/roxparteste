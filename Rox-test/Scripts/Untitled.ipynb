{
 "cells": [
  {
   "cell_type": "code",
   "execution_count": 5,
   "id": "662fa500",
   "metadata": {},
   "outputs": [],
   "source": [
    "import configparser\n",
    "import pyodbc\n",
    "import os\n",
    "import shutil\n",
    "from datetime import datetime, timedelta\n",
    "import pandas as pd\n",
    "\n",
    "config = configparser.ConfigParser()\n",
    "config.read('app.ini')\n",
    "\n",
    "user = config['authentication']['user']\n",
    "passwd = config['authentication']['password']\n",
    "driver = config['cnxbase']['driver']\n",
    "server = config['cnxbase']['server']\n",
    "database = config['cnxbase']['database']\n",
    "\n",
    "mpath = '.\\\\csvs\\\\'"
   ]
  },
  {
   "cell_type": "code",
   "execution_count": 6,
   "id": "38690084",
   "metadata": {},
   "outputs": [],
   "source": [
    "cnxn = pyodbc.connect('DRIVER={ODBC Driver 17 for SQL Server};SERVER=' + server + ';DATABASE=' + database + ';UID=' + user + ';PWD=' + passwd)\n",
    "cursor = cnxn.cursor()\n",
    "\n",
    "included_extensions = ['csv', 'CSV']\n",
    "file_names = [mpath + fn for fn in os.listdir(mpath) if any(fn.endswith(ext) for ext in included_extensions)]\n"
   ]
  },
  {
   "cell_type": "code",
   "execution_count": 19,
   "id": "7e182cb4",
   "metadata": {},
   "outputs": [],
   "source": [
    "for mfile in file_names:\n",
    "    mtable = mfile.split('.')\n",
    "    mfiletl = pd.read_csv(mfile,sep=\";\")\n",
    "    mfiletl = mfiletl.fillna('Null')\n",
    "    break\n"
   ]
  },
  {
   "cell_type": "code",
   "execution_count": 29,
   "id": "5d53d9be",
   "metadata": {},
   "outputs": [
    {
     "data": {
      "text/plain": [
       "'Person'"
      ]
     },
     "execution_count": 29,
     "metadata": {},
     "output_type": "execute_result"
    }
   ],
   "source": [
    "mtable[2]"
   ]
  },
  {
   "cell_type": "code",
   "execution_count": null,
   "id": "28ae7083",
   "metadata": {},
   "outputs": [],
   "source": []
  }
 ],
 "metadata": {
  "kernelspec": {
   "display_name": "Python 3",
   "language": "python",
   "name": "python3"
  },
  "language_info": {
   "codemirror_mode": {
    "name": "ipython",
    "version": 3
   },
   "file_extension": ".py",
   "mimetype": "text/x-python",
   "name": "python",
   "nbconvert_exporter": "python",
   "pygments_lexer": "ipython3",
   "version": "3.8.10"
  }
 },
 "nbformat": 4,
 "nbformat_minor": 5
}
